{
 "cells": [
  {
   "cell_type": "markdown",
   "id": "9b95e826",
   "metadata": {},
   "source": [
    "### **Case 1**"
   ]
  },
  {
   "cell_type": "code",
   "execution_count": 1,
   "id": "f25d9ec5",
   "metadata": {},
   "outputs": [],
   "source": [
    "fruits = [\n",
    "    {\"fruitId\": 1,   \"fruitName\": \"Apel\",         \"fruitType\": \"IMPORT\",   \"stock\": 10},\n",
    "    {\"fruitId\": 2,   \"fruitName\": \"Kurma\",        \"fruitType\": \"IMPORT\",   \"stock\": 20},\n",
    "    {\"fruitId\": 3,   \"fruitName\": \"apel\",         \"fruitType\": \"IMPORT\",   \"stock\": 50},\n",
    "    {\"fruitId\": 4,   \"fruitName\": \"Manggis\",      \"fruitType\": \"LOCAL\",    \"stock\": 100},\n",
    "    {\"fruitId\": 5,   \"fruitName\": \"Jeruk Bali\",   \"fruitType\": \"LOCAL\",    \"stock\": 10},\n",
    "    {\"fruitId\": 5,   \"fruitName\": \"KURMA\",        \"fruitType\": \"IMPORT\",   \"stock\": 20},\n",
    "    {\"fruitId\": 5,   \"fruitName\": \"Salak\",        \"fruitType\": \"LOCAL\",    \"stock\": 150}\n",
    "]"
   ]
  },
  {
   "cell_type": "code",
   "execution_count": null,
   "id": "215e71d6",
   "metadata": {},
   "outputs": [
    {
     "name": "stdout",
     "output_type": "stream",
     "text": [
      "Apel\n",
      "Kurma\n",
      "apel\n",
      "Manggis\n",
      "Jeruk Bali\n",
      "KURMA\n",
      "Salak\n"
     ]
    }
   ],
   "source": [
    "\n",
    "# 1) Buah apa saja yang dimiliki Andi? (fruitName)\n",
    "for fruit in fruits:\n",
    "    print(fruit[\"fruitName\"])"
   ]
  },
  {
   "cell_type": "code",
   "execution_count": null,
   "id": "6dd82657",
   "metadata": {},
   "outputs": [
    {
     "name": "stdout",
     "output_type": "stream",
     "text": [
      "Jumlah wadah: 2\n",
      "\n",
      "IMPORT: ['Apel', 'Kurma', 'apel', 'KURMA']\n",
      "LOCAL: ['Manggis', 'Jeruk Bali', 'Salak']\n"
     ]
    }
   ],
   "source": [
    "# 2) Andi memisahkan buahnya menjadi beberapa wadah berdasarkan tipe buah (fruitType).\n",
    "#    Berapa jumlah wadah yang dibutuhkan? Dan ada buah apa saja di masing-masing wadah?\n",
    "\n",
    "fruit_by_type = {}\n",
    "\n",
    "for fruit in fruits:\n",
    "    fruit_type = fruit[\"fruitType\"]\n",
    "    fruit_name = fruit[\"fruitName\"]\n",
    "    \n",
    "    if fruit_type not in fruit_by_type:\n",
    "        fruit_by_type[fruit_type] = []\n",
    "\n",
    "    fruit_by_type[fruit_type].append(fruit_name)\n",
    "\n",
    "print(f\"Jumlah wadah: {len(fruit_by_type)}\\n\")\n",
    "for fruit_type in fruit_by_type:\n",
    "    print(f\"{fruit_type}: {fruit_by_type[fruit_type]}\")"
   ]
  },
  {
   "cell_type": "code",
   "execution_count": 20,
   "id": "cb7c019d",
   "metadata": {},
   "outputs": [
    {
     "name": "stdout",
     "output_type": "stream",
     "text": [
      "Total stock per wadah:\n",
      "IMPORT: 100\n",
      "LOCAL: 260\n"
     ]
    }
   ],
   "source": [
    "# 3) Berapa total stock buah yang ada di masing-masing wadah?\n",
    "\n",
    "total_stock_by_type = {}\n",
    "\n",
    "for fruit in fruits:\n",
    "    fruit_type = fruit[\"fruitType\"]\n",
    "    stock = fruit[\"stock\"]\n",
    "    \n",
    "    if fruit_type not in total_stock_by_type:\n",
    "        total_stock_by_type[fruit_type] = 0\n",
    "    total_stock_by_type[fruit_type] += stock\n",
    "\n",
    "print(\"Total stock per wadah:\")\n",
    "for fruit_type in total_stock_by_type:\n",
    "    print(f\"{fruit_type}: {total_stock_by_type[fruit_type]}\")\n"
   ]
  },
  {
   "cell_type": "code",
   "execution_count": null,
   "id": "8fa7f41e",
   "metadata": {},
   "outputs": [],
   "source": [
    "# 4)\n",
    "'''\n",
    "Beberapa buah memiliki nama yang sama, hanya dibedakan huruf besar/kecilnya saja. Ini adalah duplikasi dan dapat memperberat dalam pengolahan data.\n",
    "\n",
    "Beberapa buah juga memiliki id yang sama, bentuk data seperti ini tidak cocok dalam pengembangan database karena susah dalam melakukan indexing.\n",
    "'''"
   ]
  },
  {
   "cell_type": "markdown",
   "id": "22e600e8",
   "metadata": {},
   "source": [
    "### **Case 2**"
   ]
  },
  {
   "cell_type": "code",
   "execution_count": 24,
   "id": "a6e6d150",
   "metadata": {},
   "outputs": [],
   "source": [
    "comments = [\n",
    "    {\n",
    "        \"commentId\": 1,\n",
    "        \"commentContent\": 'Hai',\n",
    "        \"replies\": [\n",
    "            {\n",
    "                \"commentId\": 11,\n",
    "                \"commentContent\": 'Hai juga',\n",
    "                \"replies\": [\n",
    "                    {\n",
    "                        \"commentId\": 111,\n",
    "                        \"commentContent\": 'Haai juga hai jugaa'\n",
    "                    },\n",
    "                    {\n",
    "                        \"commentId\": 112,\n",
    "                        \"commentContent\": 'Haai juga hai jugaa'\n",
    "                    }\n",
    "                ]\n",
    "            },\n",
    "            {\n",
    "                \"commentId\": 12,\n",
    "                \"commentContent\": 'Hai juga',\n",
    "                \"replies\": [\n",
    "                    {\n",
    "                        \"commentId\": 121,\n",
    "                        \"commentContent\": 'Haai juga hai jugaa'\n",
    "                    }\n",
    "                ]\n",
    "            }\n",
    "        ]\n",
    "    },\n",
    "    {\n",
    "        \"commentId\": 2,\n",
    "        \"commentContent\": 'Halooo'\n",
    "    }\n",
    "]"
   ]
  },
  {
   "cell_type": "code",
   "execution_count": 25,
   "id": "41084bdb",
   "metadata": {},
   "outputs": [
    {
     "name": "stdout",
     "output_type": "stream",
     "text": [
      "Total komentar: 7\n"
     ]
    }
   ],
   "source": [
    "# Buatlah fungsi untuk menghitung total komentar yang ada, termasuk semua balasan komentar.\n",
    "# Berdasarkan data di atas, total komentar adalah 7 komentar.\n",
    "\n",
    "def count_comments(comment_list):\n",
    "    total = 0\n",
    "    for comment in comment_list:\n",
    "        total += 1\n",
    "        if \"replies\" in comment:\n",
    "            total += count_comments(comment[\"replies\"])\n",
    "    return total\n",
    "\n",
    "print(\"Total komentar:\", count_comments(comments))"
   ]
  }
 ],
 "metadata": {
  "kernelspec": {
   "display_name": "Python 3",
   "language": "python",
   "name": "python3"
  },
  "language_info": {
   "codemirror_mode": {
    "name": "ipython",
    "version": 3
   },
   "file_extension": ".py",
   "mimetype": "text/x-python",
   "name": "python",
   "nbconvert_exporter": "python",
   "pygments_lexer": "ipython3",
   "version": "3.12.6"
  }
 },
 "nbformat": 4,
 "nbformat_minor": 5
}
